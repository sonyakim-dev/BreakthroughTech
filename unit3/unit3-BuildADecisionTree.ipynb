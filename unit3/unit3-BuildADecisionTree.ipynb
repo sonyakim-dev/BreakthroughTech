{
 "cells": [
  {
   "cell_type": "markdown",
   "metadata": {},
   "source": [
    "# Assignment 3: Train Decision Trees After Data Preparation"
   ]
  },
  {
   "cell_type": "code",
   "execution_count": 91,
   "metadata": {},
   "outputs": [],
   "source": [
    "import pandas as pd\n",
    "import numpy as np\n",
    "import os \n",
    "import matplotlib.pyplot as plt\n",
    "import seaborn as sns\n",
    "\n",
    "from sklearn.model_selection import train_test_split \n",
    "from sklearn.preprocessing import OneHotEncoder \n",
    "from sklearn.tree import DecisionTreeClassifier\n",
    "from sklearn.metrics import accuracy_score"
   ]
  },
  {
   "cell_type": "markdown",
   "metadata": {},
   "source": [
    "In this assignment, you will practice the fourth step of the machine learning life cycle and train machine learning models that will be used to solve a classification problem. Namely, you will train decision tree classifiers. You will complete the following tasks:\n",
    "\n",
    "1. Build your DataFrame and define your ML problem:\n",
    "    * Load the \"cell2cell\" data set into a DataFrame\n",
    "    * Define the label - what are you predicting?\n",
    "2. Prepare your data:\n",
    "    * Handle missing data \n",
    "    * Perform feature engineering by converting categorical features to one-hot encoded values\n",
    "    * Identify features\n",
    "3. Create labeled examples from the data set\n",
    "4. Split the data into training and test data sets\n",
    "5. Train two models and evaluate their performances:\n",
    "    * Fit two Decision Tree classifiers to the training data using different hyperparameter values per classifier\n",
    "    * Evaluate the accuracy of both model's predictions\n",
    "    * Plot the resulting accuracy scores\n",
    "6. Analysis:\n",
    "   * Experiment with different hyperparameter values: train multiple decision tree classifiers using different hyperparameter values and compare the accuracy scores to find which configuration yields the best performing model.\n",
    "  "
   ]
  },
  {
   "cell_type": "markdown",
   "metadata": {},
   "source": [
    "## Part 1. Build Your DataFrame and Define Your ML Problem\n",
    "\n",
    "#### Load a Data Set and Save it as a Pandas DataFrame"
   ]
  },
  {
   "cell_type": "markdown",
   "metadata": {},
   "source": [
    "We will work with the \"cell2celltrain\" data set. This version of the data set will need data preparation before it can be used for modeling."
   ]
  },
  {
   "cell_type": "code",
   "execution_count": 92,
   "metadata": {},
   "outputs": [],
   "source": [
    "# Do not remove or edit the line below:\n",
    "filename = os.path.join(os.getcwd(), \"data\", \"cell2celltrain.csv\")"
   ]
  },
  {
   "cell_type": "markdown",
   "metadata": {},
   "source": [
    "**Task**: Load the data and save it to DataFrame `df`."
   ]
  },
  {
   "cell_type": "code",
   "execution_count": 93,
   "metadata": {},
   "outputs": [],
   "source": [
    "df = pd.read_csv(filename)"
   ]
  },
  {
   "cell_type": "markdown",
   "metadata": {},
   "source": [
    "####  Inspect the Data"
   ]
  },
  {
   "cell_type": "markdown",
   "metadata": {},
   "source": [
    "**Task**: Display the shape of `df` -- that is, the number of records (rows) and variables (columns)"
   ]
  },
  {
   "cell_type": "code",
   "execution_count": 94,
   "metadata": {},
   "outputs": [
    {
     "data": {
      "text/plain": [
       "(51047, 58)"
      ]
     },
     "execution_count": 94,
     "metadata": {},
     "output_type": "execute_result"
    }
   ],
   "source": [
    "df.shape"
   ]
  },
  {
   "cell_type": "markdown",
   "metadata": {},
   "source": [
    "#### Define the Label\n",
    "\n",
    "Once again, this is a binary classification problem in which we will predict customer churn. The label is the `Churn` column."
   ]
  },
  {
   "cell_type": "markdown",
   "metadata": {},
   "source": [
    "#### Identify Features\n",
    "\n",
    "We will determine the features after we prepare our data in the section below."
   ]
  },
  {
   "cell_type": "markdown",
   "metadata": {},
   "source": [
    "## Part 2. Prepare Your Data\n",
    "\n",
    "You will perform step three of the machine learning life cycle and prepare your data for modeling. You will first clean your data by handling missing values and will then perform feature engineering by transforming categorical features using one-hot encoding."
   ]
  },
  {
   "cell_type": "markdown",
   "metadata": {},
   "source": [
    "### a. Identify and Handle Missing Data"
   ]
  },
  {
   "cell_type": "markdown",
   "metadata": {},
   "source": [
    "**Task**: Check if Dataframe `df` contains missing values, and sum up the resulting values by columns. Save this sum to variable `nan_count`. Print the results."
   ]
  },
  {
   "cell_type": "code",
   "execution_count": 95,
   "metadata": {},
   "outputs": [
    {
     "data": {
      "text/plain": [
       "CustomerID                       0\n",
       "Churn                            0\n",
       "ServiceArea                     24\n",
       "ChildrenInHH                     0\n",
       "HandsetRefurbished               0\n",
       "HandsetWebCapable                0\n",
       "TruckOwner                       0\n",
       "RVOwner                          0\n",
       "HomeownershipKnown               0\n",
       "BuysViaMailOrder                 0\n",
       "RespondsToMailOffers             0\n",
       "OptOutMailings                   0\n",
       "NonUSTravel                      0\n",
       "OwnsComputer                     0\n",
       "HasCreditCard                    0\n",
       "NewCellphoneUser                 0\n",
       "NotNewCellphoneUser              0\n",
       "OwnsMotorcycle                   0\n",
       "MadeCallToRetentionTeam          0\n",
       "CreditRating                     0\n",
       "PrizmCode                        0\n",
       "Occupation                       0\n",
       "Married                      19700\n",
       "MonthlyRevenue                   0\n",
       "MonthlyMinutes                   0\n",
       "TotalRecurringCharge             0\n",
       "DirectorAssistedCalls            0\n",
       "OverageMinutes                   0\n",
       "RoamingCalls                     0\n",
       "PercChangeMinutes                0\n",
       "PercChangeRevenues               0\n",
       "DroppedCalls                     0\n",
       "BlockedCalls                     0\n",
       "UnansweredCalls                  0\n",
       "CustomerCareCalls                0\n",
       "ThreewayCalls                    0\n",
       "ReceivedCalls                    0\n",
       "OutboundCalls                    0\n",
       "InboundCalls                     0\n",
       "PeakCallsInOut                   0\n",
       "OffPeakCallsInOut                0\n",
       "DroppedBlockedCalls              0\n",
       "CallForwardingCalls              0\n",
       "CallWaitingCalls                 0\n",
       "MonthsInService                  0\n",
       "UniqueSubs                       0\n",
       "ActiveSubs                       0\n",
       "Handsets                         0\n",
       "HandsetModels                    0\n",
       "CurrentEquipmentDays             0\n",
       "AgeHH1                           0\n",
       "AgeHH2                           0\n",
       "RetentionCalls                   0\n",
       "RetentionOffersAccepted          0\n",
       "ReferralsMadeBySubscriber        0\n",
       "IncomeGroup                      0\n",
       "AdjustmentsToCreditRating        0\n",
       "HandsetPrice                     0\n",
       "dtype: int64"
      ]
     },
     "execution_count": 95,
     "metadata": {},
     "output_type": "execute_result"
    }
   ],
   "source": [
    "nan_count = df.isnull().sum()\n",
    "nan_count"
   ]
  },
  {
   "cell_type": "markdown",
   "metadata": {},
   "source": [
    "Notice that the `married` column contains many missing values. There are different ways to handle missing values in your data. You have practiced imputing missing values by replacing them with means. Another way to handle missing values is to remove the column that contains these values. In this case, replacing missing values in the `married` column with means doesn't quite make sense since the column contains boolean values, so let's remove the `married` column.\n",
    "\n",
    "**Task**: Remove the `married` column from DataFrame `df`."
   ]
  },
  {
   "cell_type": "code",
   "execution_count": 96,
   "metadata": {},
   "outputs": [],
   "source": [
    "df.drop(columns='Married', inplace=True)"
   ]
  },
  {
   "cell_type": "markdown",
   "metadata": {},
   "source": [
    "The only other column that contains missing values is the `ServiceArea` column. Let's inspect the `ServiceArea` column to get an idea of what kind of values are in this column."
   ]
  },
  {
   "cell_type": "code",
   "execution_count": 97,
   "metadata": {},
   "outputs": [
    {
     "data": {
      "text/plain": [
       "0        SEAPOR503\n",
       "1        PITHOM412\n",
       "2        MILMIL414\n",
       "3        PITHOM412\n",
       "4        OKCTUL918\n",
       "           ...    \n",
       "51042    LAXSFN818\n",
       "51043    LAXCDG310\n",
       "51044    LAXCDG310\n",
       "51045    NEVPOW619\n",
       "51046    NEVPOW619\n",
       "Name: ServiceArea, Length: 51047, dtype: object"
      ]
     },
     "execution_count": 97,
     "metadata": {},
     "output_type": "execute_result"
    }
   ],
   "source": [
    "df['ServiceArea']"
   ]
  },
  {
   "cell_type": "code",
   "execution_count": 98,
   "metadata": {},
   "outputs": [
    {
     "data": {
      "text/plain": [
       "dtype('O')"
      ]
     },
     "execution_count": 98,
     "metadata": {},
     "output_type": "execute_result"
    }
   ],
   "source": [
    "df['ServiceArea'].dtype"
   ]
  },
  {
   "cell_type": "markdown",
   "metadata": {},
   "source": [
    "**Task**: Note that the `ServiceArea` columns contains string data types. Replace every entry in the column `ServiceArea` that contains a `NaN` value with the string `unavailable`."
   ]
  },
  {
   "cell_type": "code",
   "execution_count": 99,
   "metadata": {},
   "outputs": [],
   "source": [
    "df.fillna(value='unavilable', inplace=True)"
   ]
  },
  {
   "cell_type": "markdown",
   "metadata": {},
   "source": [
    "**Task**: Inspect DataFrame `df` to see the if it still has missing values by once again summing up the missing values by columns."
   ]
  },
  {
   "cell_type": "code",
   "execution_count": 100,
   "metadata": {},
   "outputs": [
    {
     "data": {
      "text/plain": [
       "CustomerID                   0\n",
       "Churn                        0\n",
       "ServiceArea                  0\n",
       "ChildrenInHH                 0\n",
       "HandsetRefurbished           0\n",
       "HandsetWebCapable            0\n",
       "TruckOwner                   0\n",
       "RVOwner                      0\n",
       "HomeownershipKnown           0\n",
       "BuysViaMailOrder             0\n",
       "RespondsToMailOffers         0\n",
       "OptOutMailings               0\n",
       "NonUSTravel                  0\n",
       "OwnsComputer                 0\n",
       "HasCreditCard                0\n",
       "NewCellphoneUser             0\n",
       "NotNewCellphoneUser          0\n",
       "OwnsMotorcycle               0\n",
       "MadeCallToRetentionTeam      0\n",
       "CreditRating                 0\n",
       "PrizmCode                    0\n",
       "Occupation                   0\n",
       "MonthlyRevenue               0\n",
       "MonthlyMinutes               0\n",
       "TotalRecurringCharge         0\n",
       "DirectorAssistedCalls        0\n",
       "OverageMinutes               0\n",
       "RoamingCalls                 0\n",
       "PercChangeMinutes            0\n",
       "PercChangeRevenues           0\n",
       "DroppedCalls                 0\n",
       "BlockedCalls                 0\n",
       "UnansweredCalls              0\n",
       "CustomerCareCalls            0\n",
       "ThreewayCalls                0\n",
       "ReceivedCalls                0\n",
       "OutboundCalls                0\n",
       "InboundCalls                 0\n",
       "PeakCallsInOut               0\n",
       "OffPeakCallsInOut            0\n",
       "DroppedBlockedCalls          0\n",
       "CallForwardingCalls          0\n",
       "CallWaitingCalls             0\n",
       "MonthsInService              0\n",
       "UniqueSubs                   0\n",
       "ActiveSubs                   0\n",
       "Handsets                     0\n",
       "HandsetModels                0\n",
       "CurrentEquipmentDays         0\n",
       "AgeHH1                       0\n",
       "AgeHH2                       0\n",
       "RetentionCalls               0\n",
       "RetentionOffersAccepted      0\n",
       "ReferralsMadeBySubscriber    0\n",
       "IncomeGroup                  0\n",
       "AdjustmentsToCreditRating    0\n",
       "HandsetPrice                 0\n",
       "dtype: int64"
      ]
     },
     "execution_count": 100,
     "metadata": {},
     "output_type": "execute_result"
    }
   ],
   "source": [
    "df.isnull().sum()"
   ]
  },
  {
   "cell_type": "markdown",
   "metadata": {},
   "source": [
    "### b. Perform One-Hot Encoding "
   ]
  },
  {
   "cell_type": "markdown",
   "metadata": {},
   "source": [
    "To train a decision tree model, we must first transform the string-valued categorical features into numerical boolean values using one-hot encoding."
   ]
  },
  {
   "cell_type": "markdown",
   "metadata": {},
   "source": [
    "#### Find the Columns Containing String Values"
   ]
  },
  {
   "cell_type": "code",
   "execution_count": 101,
   "metadata": {},
   "outputs": [
    {
     "data": {
      "text/plain": [
       "CustomerID                     int64\n",
       "Churn                           bool\n",
       "ServiceArea                   object\n",
       "ChildrenInHH                    bool\n",
       "HandsetRefurbished              bool\n",
       "HandsetWebCapable               bool\n",
       "TruckOwner                      bool\n",
       "RVOwner                         bool\n",
       "HomeownershipKnown              bool\n",
       "BuysViaMailOrder                bool\n",
       "RespondsToMailOffers            bool\n",
       "OptOutMailings                  bool\n",
       "NonUSTravel                     bool\n",
       "OwnsComputer                    bool\n",
       "HasCreditCard                   bool\n",
       "NewCellphoneUser                bool\n",
       "NotNewCellphoneUser             bool\n",
       "OwnsMotorcycle                  bool\n",
       "MadeCallToRetentionTeam         bool\n",
       "CreditRating                  object\n",
       "PrizmCode                     object\n",
       "Occupation                    object\n",
       "MonthlyRevenue               float64\n",
       "MonthlyMinutes               float64\n",
       "TotalRecurringCharge         float64\n",
       "DirectorAssistedCalls        float64\n",
       "OverageMinutes               float64\n",
       "RoamingCalls                 float64\n",
       "PercChangeMinutes            float64\n",
       "PercChangeRevenues           float64\n",
       "DroppedCalls                 float64\n",
       "BlockedCalls                 float64\n",
       "UnansweredCalls              float64\n",
       "CustomerCareCalls            float64\n",
       "ThreewayCalls                float64\n",
       "ReceivedCalls                float64\n",
       "OutboundCalls                float64\n",
       "InboundCalls                 float64\n",
       "PeakCallsInOut               float64\n",
       "OffPeakCallsInOut            float64\n",
       "DroppedBlockedCalls          float64\n",
       "CallForwardingCalls          float64\n",
       "CallWaitingCalls             float64\n",
       "MonthsInService              float64\n",
       "UniqueSubs                   float64\n",
       "ActiveSubs                   float64\n",
       "Handsets                     float64\n",
       "HandsetModels                float64\n",
       "CurrentEquipmentDays         float64\n",
       "AgeHH1                       float64\n",
       "AgeHH2                       float64\n",
       "RetentionCalls               float64\n",
       "RetentionOffersAccepted      float64\n",
       "ReferralsMadeBySubscriber    float64\n",
       "IncomeGroup                  float64\n",
       "AdjustmentsToCreditRating    float64\n",
       "HandsetPrice                 float64\n",
       "dtype: object"
      ]
     },
     "execution_count": 101,
     "metadata": {},
     "output_type": "execute_result"
    }
   ],
   "source": [
    "df.dtypes"
   ]
  },
  {
   "cell_type": "markdown",
   "metadata": {},
   "source": [
    "**Task**: Find all of the columns whose values are of type 'object' and add the column names to a list named `to_encode`."
   ]
  },
  {
   "cell_type": "code",
   "execution_count": 102,
   "metadata": {},
   "outputs": [
    {
     "data": {
      "text/plain": [
       "['ServiceArea', 'CreditRating', 'PrizmCode', 'Occupation']"
      ]
     },
     "execution_count": 102,
     "metadata": {},
     "output_type": "execute_result"
    }
   ],
   "source": [
    "to_encode = list(df.select_dtypes(include='object').columns)\n",
    "to_encode"
   ]
  },
  {
   "cell_type": "markdown",
   "metadata": {},
   "source": [
    "Let's look at the number of unique values each column has:"
   ]
  },
  {
   "cell_type": "code",
   "execution_count": 103,
   "metadata": {},
   "outputs": [
    {
     "data": {
      "text/plain": [
       "ServiceArea     748\n",
       "CreditRating      7\n",
       "PrizmCode         4\n",
       "Occupation        8\n",
       "dtype: int64"
      ]
     },
     "execution_count": 103,
     "metadata": {},
     "output_type": "execute_result"
    }
   ],
   "source": [
    "df[to_encode].nunique()"
   ]
  },
  {
   "cell_type": "markdown",
   "metadata": {},
   "source": [
    "Notice that all of the columns except for `ServiceArea` contain a small number of unique values. For these columns, it should be straightforward to use one-hot encoding to replace the column with a set of new binary columns for each unique value. \n",
    "\n",
    "However, `ServiceArea` contains a large number of unique values. Let's first deal with the special case of `ServiceArea`."
   ]
  },
  {
   "cell_type": "markdown",
   "metadata": {},
   "source": [
    "#### One Hot-Encoding 'ServiceArea': The Top 10 Values"
   ]
  },
  {
   "cell_type": "markdown",
   "metadata": {},
   "source": [
    "Notice that column `ServiceArea` has 747 potential values. This means we would have to create 747 new binary indicator columns - one column per unique value. That is too many!\n",
    "\n",
    "Transforming this many categorical values would slow down the computation down the line. One thing we could do is to see if some of the values in `ServiceArea` are occurring frequently. We will then one-hot encode just those frequent values. Let's one-hot encode only the top ten most frequent values in column `ServiceArea`. "
   ]
  },
  {
   "cell_type": "markdown",
   "metadata": {},
   "source": [
    "<b>Task</b>: Get the top 10 most frequent values in the `ServiceArea` column and store them in list `top_10_SA`.\n",
    "\n",
    "<i>Hint:</i> Use Pandas `value_counts()` method to obtain the most frequently occurring values in descending order. Then use the `head()` method to obtain the top ten most frequently occuring values. Finally, extract only the column values and save them to list `top_10_SA`."
   ]
  },
  {
   "cell_type": "code",
   "execution_count": 104,
   "metadata": {},
   "outputs": [],
   "source": [
    "df.value_counts?"
   ]
  },
  {
   "cell_type": "code",
   "execution_count": 105,
   "metadata": {},
   "outputs": [
    {
     "data": {
      "text/plain": [
       "['NYCBRO917',\n",
       " 'HOUHOU281',\n",
       " 'DALDAL214',\n",
       " 'NYCMAN917',\n",
       " 'APCFCH703',\n",
       " 'DALFTW817',\n",
       " 'SANSAN210',\n",
       " 'APCSIL301',\n",
       " 'SANAUS512',\n",
       " 'SFROAK510']"
      ]
     },
     "execution_count": 105,
     "metadata": {},
     "output_type": "execute_result"
    }
   ],
   "source": [
    "top_10_SA = list(df['ServiceArea'].value_counts().head(10).index)\n",
    "top_10_SA"
   ]
  },
  {
   "cell_type": "markdown",
   "metadata": {},
   "source": [
    "Now that we have obtained the ten most frequent values for `ServiceArea`, let's use one-hot encoding to transform DataFrame `df` to represent these values numerically.\n",
    "\n",
    "<b>Task</b>: Write a `for` loop that loops through every value in `top_10_SA` and creates one-hot encoded columns, titled <br>'ServiceArea' + '\\_' + $<$service area value$>$'. For example, there will be a column named  `ServiceArea_DALDAL214`. \n",
    "\n",
    "Each of these new ten columns will have a value of either 0 or 1. 1 means that the row in question had that corresponding value present in the original `ServiceArea` column.  For example, row 47 in DataFrame `df` originally had the value `DALDAL214` in column `ServiceArea`. After one-hot encoding, row 47 will have the value of 1 in new column `ServiceArea_DALDAL214`.\n",
    "    \n",
    "Use the NumPy `np.where()`function  to accomplish this."
   ]
  },
  {
   "cell_type": "code",
   "execution_count": 106,
   "metadata": {},
   "outputs": [],
   "source": [
    "np.where?"
   ]
  },
  {
   "cell_type": "code",
   "execution_count": 107,
   "metadata": {},
   "outputs": [],
   "source": [
    "for sa in top_10_SA:\n",
    "    df[f'ServiceArea_{sa}'] = np.where(df['ServiceArea'] == sa, 1, 0)"
   ]
  },
  {
   "cell_type": "markdown",
   "metadata": {},
   "source": [
    "<b>Task</b>: \n",
    "1. Drop the original, multi-valued `ServiceArea` column from the DataFrame `df`. \n",
    "2. Remove 'ServiceArea' from the `to_encode` list."
   ]
  },
  {
   "cell_type": "code",
   "execution_count": 108,
   "metadata": {},
   "outputs": [],
   "source": [
    "df.drop(columns='ServiceArea', inplace=True)\n",
    "to_encode.remove('ServiceArea')"
   ]
  },
  {
   "cell_type": "markdown",
   "metadata": {},
   "source": [
    "Inspect DataFrame `df` and see the new columns and their values."
   ]
  },
  {
   "cell_type": "code",
   "execution_count": 109,
   "metadata": {},
   "outputs": [
    {
     "data": {
      "text/plain": [
       "Index(['CustomerID', 'Churn', 'ChildrenInHH', 'HandsetRefurbished',\n",
       "       'HandsetWebCapable', 'TruckOwner', 'RVOwner', 'HomeownershipKnown',\n",
       "       'BuysViaMailOrder', 'RespondsToMailOffers', 'OptOutMailings',\n",
       "       'NonUSTravel', 'OwnsComputer', 'HasCreditCard', 'NewCellphoneUser',\n",
       "       'NotNewCellphoneUser', 'OwnsMotorcycle', 'MadeCallToRetentionTeam',\n",
       "       'CreditRating', 'PrizmCode', 'Occupation', 'MonthlyRevenue',\n",
       "       'MonthlyMinutes', 'TotalRecurringCharge', 'DirectorAssistedCalls',\n",
       "       'OverageMinutes', 'RoamingCalls', 'PercChangeMinutes',\n",
       "       'PercChangeRevenues', 'DroppedCalls', 'BlockedCalls', 'UnansweredCalls',\n",
       "       'CustomerCareCalls', 'ThreewayCalls', 'ReceivedCalls', 'OutboundCalls',\n",
       "       'InboundCalls', 'PeakCallsInOut', 'OffPeakCallsInOut',\n",
       "       'DroppedBlockedCalls', 'CallForwardingCalls', 'CallWaitingCalls',\n",
       "       'MonthsInService', 'UniqueSubs', 'ActiveSubs', 'Handsets',\n",
       "       'HandsetModels', 'CurrentEquipmentDays', 'AgeHH1', 'AgeHH2',\n",
       "       'RetentionCalls', 'RetentionOffersAccepted',\n",
       "       'ReferralsMadeBySubscriber', 'IncomeGroup', 'AdjustmentsToCreditRating',\n",
       "       'HandsetPrice', 'ServiceArea_NYCBRO917', 'ServiceArea_HOUHOU281',\n",
       "       'ServiceArea_DALDAL214', 'ServiceArea_NYCMAN917',\n",
       "       'ServiceArea_APCFCH703', 'ServiceArea_DALFTW817',\n",
       "       'ServiceArea_SANSAN210', 'ServiceArea_APCSIL301',\n",
       "       'ServiceArea_SANAUS512', 'ServiceArea_SFROAK510'],\n",
       "      dtype='object')"
      ]
     },
     "execution_count": 109,
     "metadata": {},
     "output_type": "execute_result"
    }
   ],
   "source": [
    "df.columns"
   ]
  },
  {
   "cell_type": "code",
   "execution_count": 110,
   "metadata": {
    "scrolled": true
   },
   "outputs": [
    {
     "data": {
      "text/html": [
       "<div>\n",
       "<style scoped>\n",
       "    .dataframe tbody tr th:only-of-type {\n",
       "        vertical-align: middle;\n",
       "    }\n",
       "\n",
       "    .dataframe tbody tr th {\n",
       "        vertical-align: top;\n",
       "    }\n",
       "\n",
       "    .dataframe thead th {\n",
       "        text-align: right;\n",
       "    }\n",
       "</style>\n",
       "<table border=\"1\" class=\"dataframe\">\n",
       "  <thead>\n",
       "    <tr style=\"text-align: right;\">\n",
       "      <th></th>\n",
       "      <th>CustomerID</th>\n",
       "      <th>Churn</th>\n",
       "      <th>ChildrenInHH</th>\n",
       "      <th>HandsetRefurbished</th>\n",
       "      <th>HandsetWebCapable</th>\n",
       "      <th>TruckOwner</th>\n",
       "      <th>RVOwner</th>\n",
       "      <th>HomeownershipKnown</th>\n",
       "      <th>BuysViaMailOrder</th>\n",
       "      <th>RespondsToMailOffers</th>\n",
       "      <th>...</th>\n",
       "      <th>ServiceArea_NYCBRO917</th>\n",
       "      <th>ServiceArea_HOUHOU281</th>\n",
       "      <th>ServiceArea_DALDAL214</th>\n",
       "      <th>ServiceArea_NYCMAN917</th>\n",
       "      <th>ServiceArea_APCFCH703</th>\n",
       "      <th>ServiceArea_DALFTW817</th>\n",
       "      <th>ServiceArea_SANSAN210</th>\n",
       "      <th>ServiceArea_APCSIL301</th>\n",
       "      <th>ServiceArea_SANAUS512</th>\n",
       "      <th>ServiceArea_SFROAK510</th>\n",
       "    </tr>\n",
       "  </thead>\n",
       "  <tbody>\n",
       "    <tr>\n",
       "      <th>0</th>\n",
       "      <td>3000002</td>\n",
       "      <td>True</td>\n",
       "      <td>False</td>\n",
       "      <td>False</td>\n",
       "      <td>True</td>\n",
       "      <td>False</td>\n",
       "      <td>False</td>\n",
       "      <td>True</td>\n",
       "      <td>True</td>\n",
       "      <td>True</td>\n",
       "      <td>...</td>\n",
       "      <td>0</td>\n",
       "      <td>0</td>\n",
       "      <td>0</td>\n",
       "      <td>0</td>\n",
       "      <td>0</td>\n",
       "      <td>0</td>\n",
       "      <td>0</td>\n",
       "      <td>0</td>\n",
       "      <td>0</td>\n",
       "      <td>0</td>\n",
       "    </tr>\n",
       "    <tr>\n",
       "      <th>1</th>\n",
       "      <td>3000010</td>\n",
       "      <td>True</td>\n",
       "      <td>True</td>\n",
       "      <td>False</td>\n",
       "      <td>False</td>\n",
       "      <td>False</td>\n",
       "      <td>False</td>\n",
       "      <td>True</td>\n",
       "      <td>True</td>\n",
       "      <td>True</td>\n",
       "      <td>...</td>\n",
       "      <td>0</td>\n",
       "      <td>0</td>\n",
       "      <td>0</td>\n",
       "      <td>0</td>\n",
       "      <td>0</td>\n",
       "      <td>0</td>\n",
       "      <td>0</td>\n",
       "      <td>0</td>\n",
       "      <td>0</td>\n",
       "      <td>0</td>\n",
       "    </tr>\n",
       "    <tr>\n",
       "      <th>2</th>\n",
       "      <td>3000014</td>\n",
       "      <td>False</td>\n",
       "      <td>True</td>\n",
       "      <td>False</td>\n",
       "      <td>False</td>\n",
       "      <td>False</td>\n",
       "      <td>False</td>\n",
       "      <td>False</td>\n",
       "      <td>False</td>\n",
       "      <td>False</td>\n",
       "      <td>...</td>\n",
       "      <td>0</td>\n",
       "      <td>0</td>\n",
       "      <td>0</td>\n",
       "      <td>0</td>\n",
       "      <td>0</td>\n",
       "      <td>0</td>\n",
       "      <td>0</td>\n",
       "      <td>0</td>\n",
       "      <td>0</td>\n",
       "      <td>0</td>\n",
       "    </tr>\n",
       "    <tr>\n",
       "      <th>3</th>\n",
       "      <td>3000022</td>\n",
       "      <td>False</td>\n",
       "      <td>False</td>\n",
       "      <td>False</td>\n",
       "      <td>True</td>\n",
       "      <td>False</td>\n",
       "      <td>False</td>\n",
       "      <td>True</td>\n",
       "      <td>True</td>\n",
       "      <td>True</td>\n",
       "      <td>...</td>\n",
       "      <td>0</td>\n",
       "      <td>0</td>\n",
       "      <td>0</td>\n",
       "      <td>0</td>\n",
       "      <td>0</td>\n",
       "      <td>0</td>\n",
       "      <td>0</td>\n",
       "      <td>0</td>\n",
       "      <td>0</td>\n",
       "      <td>0</td>\n",
       "    </tr>\n",
       "    <tr>\n",
       "      <th>4</th>\n",
       "      <td>3000026</td>\n",
       "      <td>True</td>\n",
       "      <td>False</td>\n",
       "      <td>False</td>\n",
       "      <td>False</td>\n",
       "      <td>False</td>\n",
       "      <td>False</td>\n",
       "      <td>True</td>\n",
       "      <td>True</td>\n",
       "      <td>True</td>\n",
       "      <td>...</td>\n",
       "      <td>0</td>\n",
       "      <td>0</td>\n",
       "      <td>0</td>\n",
       "      <td>0</td>\n",
       "      <td>0</td>\n",
       "      <td>0</td>\n",
       "      <td>0</td>\n",
       "      <td>0</td>\n",
       "      <td>0</td>\n",
       "      <td>0</td>\n",
       "    </tr>\n",
       "  </tbody>\n",
       "</table>\n",
       "<p>5 rows × 66 columns</p>\n",
       "</div>"
      ],
      "text/plain": [
       "   CustomerID  Churn  ChildrenInHH  HandsetRefurbished  HandsetWebCapable  \\\n",
       "0     3000002   True         False               False               True   \n",
       "1     3000010   True          True               False              False   \n",
       "2     3000014  False          True               False              False   \n",
       "3     3000022  False         False               False               True   \n",
       "4     3000026   True         False               False              False   \n",
       "\n",
       "   TruckOwner  RVOwner  HomeownershipKnown  BuysViaMailOrder  \\\n",
       "0       False    False                True              True   \n",
       "1       False    False                True              True   \n",
       "2       False    False               False             False   \n",
       "3       False    False                True              True   \n",
       "4       False    False                True              True   \n",
       "\n",
       "   RespondsToMailOffers  ...  ServiceArea_NYCBRO917  ServiceArea_HOUHOU281  \\\n",
       "0                  True  ...                      0                      0   \n",
       "1                  True  ...                      0                      0   \n",
       "2                 False  ...                      0                      0   \n",
       "3                  True  ...                      0                      0   \n",
       "4                  True  ...                      0                      0   \n",
       "\n",
       "   ServiceArea_DALDAL214  ServiceArea_NYCMAN917  ServiceArea_APCFCH703  \\\n",
       "0                      0                      0                      0   \n",
       "1                      0                      0                      0   \n",
       "2                      0                      0                      0   \n",
       "3                      0                      0                      0   \n",
       "4                      0                      0                      0   \n",
       "\n",
       "   ServiceArea_DALFTW817  ServiceArea_SANSAN210  ServiceArea_APCSIL301  \\\n",
       "0                      0                      0                      0   \n",
       "1                      0                      0                      0   \n",
       "2                      0                      0                      0   \n",
       "3                      0                      0                      0   \n",
       "4                      0                      0                      0   \n",
       "\n",
       "  ServiceArea_SANAUS512 ServiceArea_SFROAK510  \n",
       "0                     0                     0  \n",
       "1                     0                     0  \n",
       "2                     0                     0  \n",
       "3                     0                     0  \n",
       "4                     0                     0  \n",
       "\n",
       "[5 rows x 66 columns]"
      ]
     },
     "execution_count": 110,
     "metadata": {},
     "output_type": "execute_result"
    }
   ],
   "source": [
    "df.head()"
   ]
  },
  {
   "cell_type": "markdown",
   "metadata": {},
   "source": [
    "Let's inspect column `ServiceArea_DALDAL214` in row 47. Remember, it should have a value of 1."
   ]
  },
  {
   "cell_type": "code",
   "execution_count": 111,
   "metadata": {},
   "outputs": [
    {
     "data": {
      "text/plain": [
       "1"
      ]
     },
     "execution_count": 111,
     "metadata": {},
     "output_type": "execute_result"
    }
   ],
   "source": [
    "df.loc[47]['ServiceArea_DALDAL214']"
   ]
  },
  {
   "cell_type": "markdown",
   "metadata": {},
   "source": [
    "#### One Hot-Encode all Remaining Columns"
   ]
  },
  {
   "cell_type": "markdown",
   "metadata": {},
   "source": [
    "All other columns in `to_encode` have reasonably small numbers of unique values, so we are going to simply one-hot encode every unique value of those columns.\n",
    "\n",
    "<b>Task</b>: In the code cell below, iterate over the column names contained in `to_encode` and one-hot encode these columns. In the loop:\n",
    "  1. Use the Pandas `pd.get_dummies()` function to one-hot encode the column and save the resulting DataFrame to variable `df_encoded`\n",
    "  2. Use `df.join` to join DataFrame `df_encoded` with DataFrame `df`\n"
   ]
  },
  {
   "cell_type": "code",
   "execution_count": 112,
   "metadata": {},
   "outputs": [],
   "source": [
    "for c in to_encode:\n",
    "    df_encoded = pd.get_dummies(df[c], prefix=f'{c}_')\n",
    "    df = df.join(df_encoded)"
   ]
  },
  {
   "cell_type": "code",
   "execution_count": 113,
   "metadata": {},
   "outputs": [
    {
     "data": {
      "text/html": [
       "<div>\n",
       "<style scoped>\n",
       "    .dataframe tbody tr th:only-of-type {\n",
       "        vertical-align: middle;\n",
       "    }\n",
       "\n",
       "    .dataframe tbody tr th {\n",
       "        vertical-align: top;\n",
       "    }\n",
       "\n",
       "    .dataframe thead th {\n",
       "        text-align: right;\n",
       "    }\n",
       "</style>\n",
       "<table border=\"1\" class=\"dataframe\">\n",
       "  <thead>\n",
       "    <tr style=\"text-align: right;\">\n",
       "      <th></th>\n",
       "      <th>CustomerID</th>\n",
       "      <th>Churn</th>\n",
       "      <th>ChildrenInHH</th>\n",
       "      <th>HandsetRefurbished</th>\n",
       "      <th>HandsetWebCapable</th>\n",
       "      <th>TruckOwner</th>\n",
       "      <th>RVOwner</th>\n",
       "      <th>HomeownershipKnown</th>\n",
       "      <th>BuysViaMailOrder</th>\n",
       "      <th>RespondsToMailOffers</th>\n",
       "      <th>...</th>\n",
       "      <th>PrizmCode__Suburban</th>\n",
       "      <th>PrizmCode__Town</th>\n",
       "      <th>Occupation__Clerical</th>\n",
       "      <th>Occupation__Crafts</th>\n",
       "      <th>Occupation__Homemaker</th>\n",
       "      <th>Occupation__Other</th>\n",
       "      <th>Occupation__Professional</th>\n",
       "      <th>Occupation__Retired</th>\n",
       "      <th>Occupation__Self</th>\n",
       "      <th>Occupation__Student</th>\n",
       "    </tr>\n",
       "  </thead>\n",
       "  <tbody>\n",
       "    <tr>\n",
       "      <th>0</th>\n",
       "      <td>3000002</td>\n",
       "      <td>True</td>\n",
       "      <td>False</td>\n",
       "      <td>False</td>\n",
       "      <td>True</td>\n",
       "      <td>False</td>\n",
       "      <td>False</td>\n",
       "      <td>True</td>\n",
       "      <td>True</td>\n",
       "      <td>True</td>\n",
       "      <td>...</td>\n",
       "      <td>1</td>\n",
       "      <td>0</td>\n",
       "      <td>0</td>\n",
       "      <td>0</td>\n",
       "      <td>0</td>\n",
       "      <td>0</td>\n",
       "      <td>1</td>\n",
       "      <td>0</td>\n",
       "      <td>0</td>\n",
       "      <td>0</td>\n",
       "    </tr>\n",
       "    <tr>\n",
       "      <th>1</th>\n",
       "      <td>3000010</td>\n",
       "      <td>True</td>\n",
       "      <td>True</td>\n",
       "      <td>False</td>\n",
       "      <td>False</td>\n",
       "      <td>False</td>\n",
       "      <td>False</td>\n",
       "      <td>True</td>\n",
       "      <td>True</td>\n",
       "      <td>True</td>\n",
       "      <td>...</td>\n",
       "      <td>1</td>\n",
       "      <td>0</td>\n",
       "      <td>0</td>\n",
       "      <td>0</td>\n",
       "      <td>0</td>\n",
       "      <td>0</td>\n",
       "      <td>1</td>\n",
       "      <td>0</td>\n",
       "      <td>0</td>\n",
       "      <td>0</td>\n",
       "    </tr>\n",
       "    <tr>\n",
       "      <th>2</th>\n",
       "      <td>3000014</td>\n",
       "      <td>False</td>\n",
       "      <td>True</td>\n",
       "      <td>False</td>\n",
       "      <td>False</td>\n",
       "      <td>False</td>\n",
       "      <td>False</td>\n",
       "      <td>False</td>\n",
       "      <td>False</td>\n",
       "      <td>False</td>\n",
       "      <td>...</td>\n",
       "      <td>0</td>\n",
       "      <td>1</td>\n",
       "      <td>0</td>\n",
       "      <td>1</td>\n",
       "      <td>0</td>\n",
       "      <td>0</td>\n",
       "      <td>0</td>\n",
       "      <td>0</td>\n",
       "      <td>0</td>\n",
       "      <td>0</td>\n",
       "    </tr>\n",
       "    <tr>\n",
       "      <th>3</th>\n",
       "      <td>3000022</td>\n",
       "      <td>False</td>\n",
       "      <td>False</td>\n",
       "      <td>False</td>\n",
       "      <td>True</td>\n",
       "      <td>False</td>\n",
       "      <td>False</td>\n",
       "      <td>True</td>\n",
       "      <td>True</td>\n",
       "      <td>True</td>\n",
       "      <td>...</td>\n",
       "      <td>0</td>\n",
       "      <td>0</td>\n",
       "      <td>0</td>\n",
       "      <td>0</td>\n",
       "      <td>0</td>\n",
       "      <td>1</td>\n",
       "      <td>0</td>\n",
       "      <td>0</td>\n",
       "      <td>0</td>\n",
       "      <td>0</td>\n",
       "    </tr>\n",
       "    <tr>\n",
       "      <th>4</th>\n",
       "      <td>3000026</td>\n",
       "      <td>True</td>\n",
       "      <td>False</td>\n",
       "      <td>False</td>\n",
       "      <td>False</td>\n",
       "      <td>False</td>\n",
       "      <td>False</td>\n",
       "      <td>True</td>\n",
       "      <td>True</td>\n",
       "      <td>True</td>\n",
       "      <td>...</td>\n",
       "      <td>0</td>\n",
       "      <td>0</td>\n",
       "      <td>0</td>\n",
       "      <td>0</td>\n",
       "      <td>0</td>\n",
       "      <td>0</td>\n",
       "      <td>1</td>\n",
       "      <td>0</td>\n",
       "      <td>0</td>\n",
       "      <td>0</td>\n",
       "    </tr>\n",
       "  </tbody>\n",
       "</table>\n",
       "<p>5 rows × 85 columns</p>\n",
       "</div>"
      ],
      "text/plain": [
       "   CustomerID  Churn  ChildrenInHH  HandsetRefurbished  HandsetWebCapable  \\\n",
       "0     3000002   True         False               False               True   \n",
       "1     3000010   True          True               False              False   \n",
       "2     3000014  False          True               False              False   \n",
       "3     3000022  False         False               False               True   \n",
       "4     3000026   True         False               False              False   \n",
       "\n",
       "   TruckOwner  RVOwner  HomeownershipKnown  BuysViaMailOrder  \\\n",
       "0       False    False                True              True   \n",
       "1       False    False                True              True   \n",
       "2       False    False               False             False   \n",
       "3       False    False                True              True   \n",
       "4       False    False                True              True   \n",
       "\n",
       "   RespondsToMailOffers  ...  PrizmCode__Suburban  PrizmCode__Town  \\\n",
       "0                  True  ...                    1                0   \n",
       "1                  True  ...                    1                0   \n",
       "2                 False  ...                    0                1   \n",
       "3                  True  ...                    0                0   \n",
       "4                  True  ...                    0                0   \n",
       "\n",
       "   Occupation__Clerical  Occupation__Crafts  Occupation__Homemaker  \\\n",
       "0                     0                   0                      0   \n",
       "1                     0                   0                      0   \n",
       "2                     0                   1                      0   \n",
       "3                     0                   0                      0   \n",
       "4                     0                   0                      0   \n",
       "\n",
       "   Occupation__Other  Occupation__Professional  Occupation__Retired  \\\n",
       "0                  0                         1                    0   \n",
       "1                  0                         1                    0   \n",
       "2                  0                         0                    0   \n",
       "3                  1                         0                    0   \n",
       "4                  0                         1                    0   \n",
       "\n",
       "  Occupation__Self Occupation__Student  \n",
       "0                0                   0  \n",
       "1                0                   0  \n",
       "2                0                   0  \n",
       "3                0                   0  \n",
       "4                0                   0  \n",
       "\n",
       "[5 rows x 85 columns]"
      ]
     },
     "execution_count": 113,
     "metadata": {},
     "output_type": "execute_result"
    }
   ],
   "source": [
    "df.head()"
   ]
  },
  {
   "cell_type": "markdown",
   "metadata": {},
   "source": [
    "<b>Task</b>: Remove all the original columns from DataFrame `df`"
   ]
  },
  {
   "cell_type": "code",
   "execution_count": 114,
   "metadata": {},
   "outputs": [],
   "source": [
    "df.drop(columns=to_encode,inplace=True)"
   ]
  },
  {
   "cell_type": "markdown",
   "metadata": {},
   "source": [
    "<b>Task</b>: Check that the data does not contain any missing values. The absence of missing values is necessary for training a Decision Tree model."
   ]
  },
  {
   "cell_type": "code",
   "execution_count": 115,
   "metadata": {},
   "outputs": [
    {
     "data": {
      "text/plain": [
       "True"
      ]
     },
     "execution_count": 115,
     "metadata": {},
     "output_type": "execute_result"
    }
   ],
   "source": [
    "df.isnull().sum()[1] == 0"
   ]
  },
  {
   "cell_type": "code",
   "execution_count": 116,
   "metadata": {},
   "outputs": [
    {
     "data": {
      "text/plain": [
       "Index(['CustomerID', 'Churn', 'ChildrenInHH', 'HandsetRefurbished',\n",
       "       'HandsetWebCapable', 'TruckOwner', 'RVOwner', 'HomeownershipKnown',\n",
       "       'BuysViaMailOrder', 'RespondsToMailOffers', 'OptOutMailings',\n",
       "       'NonUSTravel', 'OwnsComputer', 'HasCreditCard', 'NewCellphoneUser',\n",
       "       'NotNewCellphoneUser', 'OwnsMotorcycle', 'MadeCallToRetentionTeam',\n",
       "       'MonthlyRevenue', 'MonthlyMinutes', 'TotalRecurringCharge',\n",
       "       'DirectorAssistedCalls', 'OverageMinutes', 'RoamingCalls',\n",
       "       'PercChangeMinutes', 'PercChangeRevenues', 'DroppedCalls',\n",
       "       'BlockedCalls', 'UnansweredCalls', 'CustomerCareCalls', 'ThreewayCalls',\n",
       "       'ReceivedCalls', 'OutboundCalls', 'InboundCalls', 'PeakCallsInOut',\n",
       "       'OffPeakCallsInOut', 'DroppedBlockedCalls', 'CallForwardingCalls',\n",
       "       'CallWaitingCalls', 'MonthsInService', 'UniqueSubs', 'ActiveSubs',\n",
       "       'Handsets', 'HandsetModels', 'CurrentEquipmentDays', 'AgeHH1', 'AgeHH2',\n",
       "       'RetentionCalls', 'RetentionOffersAccepted',\n",
       "       'ReferralsMadeBySubscriber', 'IncomeGroup', 'AdjustmentsToCreditRating',\n",
       "       'HandsetPrice', 'ServiceArea_NYCBRO917', 'ServiceArea_HOUHOU281',\n",
       "       'ServiceArea_DALDAL214', 'ServiceArea_NYCMAN917',\n",
       "       'ServiceArea_APCFCH703', 'ServiceArea_DALFTW817',\n",
       "       'ServiceArea_SANSAN210', 'ServiceArea_APCSIL301',\n",
       "       'ServiceArea_SANAUS512', 'ServiceArea_SFROAK510',\n",
       "       'CreditRating__1-Highest', 'CreditRating__2-High',\n",
       "       'CreditRating__3-Good', 'CreditRating__4-Medium', 'CreditRating__5-Low',\n",
       "       'CreditRating__6-VeryLow', 'CreditRating__7-Lowest', 'PrizmCode__Other',\n",
       "       'PrizmCode__Rural', 'PrizmCode__Suburban', 'PrizmCode__Town',\n",
       "       'Occupation__Clerical', 'Occupation__Crafts', 'Occupation__Homemaker',\n",
       "       'Occupation__Other', 'Occupation__Professional', 'Occupation__Retired',\n",
       "       'Occupation__Self', 'Occupation__Student'],\n",
       "      dtype='object')"
      ]
     },
     "execution_count": 116,
     "metadata": {},
     "output_type": "execute_result"
    }
   ],
   "source": [
    "df.columns"
   ]
  },
  {
   "cell_type": "markdown",
   "metadata": {},
   "source": [
    "#### Identify Features\n",
    "Let's inspect the transformed DataFrame `df`. These will be our features."
   ]
  },
  {
   "cell_type": "code",
   "execution_count": 117,
   "metadata": {},
   "outputs": [
    {
     "data": {
      "text/plain": [
       "['CustomerID',\n",
       " 'ChildrenInHH',\n",
       " 'HandsetRefurbished',\n",
       " 'HandsetWebCapable',\n",
       " 'TruckOwner',\n",
       " 'RVOwner',\n",
       " 'HomeownershipKnown',\n",
       " 'BuysViaMailOrder',\n",
       " 'RespondsToMailOffers',\n",
       " 'OptOutMailings',\n",
       " 'NonUSTravel',\n",
       " 'OwnsComputer',\n",
       " 'HasCreditCard',\n",
       " 'NewCellphoneUser',\n",
       " 'NotNewCellphoneUser',\n",
       " 'OwnsMotorcycle',\n",
       " 'MadeCallToRetentionTeam',\n",
       " 'MonthlyRevenue',\n",
       " 'MonthlyMinutes',\n",
       " 'TotalRecurringCharge',\n",
       " 'DirectorAssistedCalls',\n",
       " 'OverageMinutes',\n",
       " 'RoamingCalls',\n",
       " 'PercChangeMinutes',\n",
       " 'PercChangeRevenues',\n",
       " 'DroppedCalls',\n",
       " 'BlockedCalls',\n",
       " 'UnansweredCalls',\n",
       " 'CustomerCareCalls',\n",
       " 'ThreewayCalls',\n",
       " 'ReceivedCalls',\n",
       " 'OutboundCalls',\n",
       " 'InboundCalls',\n",
       " 'PeakCallsInOut',\n",
       " 'OffPeakCallsInOut',\n",
       " 'DroppedBlockedCalls',\n",
       " 'CallForwardingCalls',\n",
       " 'CallWaitingCalls',\n",
       " 'MonthsInService',\n",
       " 'UniqueSubs',\n",
       " 'ActiveSubs',\n",
       " 'Handsets',\n",
       " 'HandsetModels',\n",
       " 'CurrentEquipmentDays',\n",
       " 'AgeHH1',\n",
       " 'AgeHH2',\n",
       " 'RetentionCalls',\n",
       " 'RetentionOffersAccepted',\n",
       " 'ReferralsMadeBySubscriber',\n",
       " 'IncomeGroup',\n",
       " 'AdjustmentsToCreditRating',\n",
       " 'HandsetPrice',\n",
       " 'ServiceArea_NYCBRO917',\n",
       " 'ServiceArea_HOUHOU281',\n",
       " 'ServiceArea_DALDAL214',\n",
       " 'ServiceArea_NYCMAN917',\n",
       " 'ServiceArea_APCFCH703',\n",
       " 'ServiceArea_DALFTW817',\n",
       " 'ServiceArea_SANSAN210',\n",
       " 'ServiceArea_APCSIL301',\n",
       " 'ServiceArea_SANAUS512',\n",
       " 'ServiceArea_SFROAK510',\n",
       " 'CreditRating__1-Highest',\n",
       " 'CreditRating__2-High',\n",
       " 'CreditRating__3-Good',\n",
       " 'CreditRating__4-Medium',\n",
       " 'CreditRating__5-Low',\n",
       " 'CreditRating__6-VeryLow',\n",
       " 'CreditRating__7-Lowest',\n",
       " 'PrizmCode__Other',\n",
       " 'PrizmCode__Rural',\n",
       " 'PrizmCode__Suburban',\n",
       " 'PrizmCode__Town',\n",
       " 'Occupation__Clerical',\n",
       " 'Occupation__Crafts',\n",
       " 'Occupation__Homemaker',\n",
       " 'Occupation__Other',\n",
       " 'Occupation__Professional',\n",
       " 'Occupation__Retired',\n",
       " 'Occupation__Self',\n",
       " 'Occupation__Student']"
      ]
     },
     "execution_count": 117,
     "metadata": {},
     "output_type": "execute_result"
    }
   ],
   "source": [
    "list(df.loc[:, df.columns != 'Churn'])"
   ]
  },
  {
   "cell_type": "markdown",
   "metadata": {},
   "source": [
    "## Part 3. Create Labeled Examples from the Data Set "
   ]
  },
  {
   "cell_type": "markdown",
   "metadata": {},
   "source": [
    "<b>Task</b>: Create labeled examples from DataFrame `df`. \n",
    "In the code cell below carry out the following steps:\n",
    "\n",
    "* Get the `Churn` column from DataFrame `df` and assign it to the variable `y`. This will be our label.\n",
    "* Get all other columns from DataFrame `df` and assign them to the variable `X`. These will be our features. "
   ]
  },
  {
   "cell_type": "code",
   "execution_count": 118,
   "metadata": {},
   "outputs": [],
   "source": [
    "y = df['Churn']\n",
    "X = df.drop(columns='Churn')"
   ]
  },
  {
   "cell_type": "code",
   "execution_count": 119,
   "metadata": {},
   "outputs": [
    {
     "data": {
      "text/html": [
       "<div>\n",
       "<style scoped>\n",
       "    .dataframe tbody tr th:only-of-type {\n",
       "        vertical-align: middle;\n",
       "    }\n",
       "\n",
       "    .dataframe tbody tr th {\n",
       "        vertical-align: top;\n",
       "    }\n",
       "\n",
       "    .dataframe thead th {\n",
       "        text-align: right;\n",
       "    }\n",
       "</style>\n",
       "<table border=\"1\" class=\"dataframe\">\n",
       "  <thead>\n",
       "    <tr style=\"text-align: right;\">\n",
       "      <th></th>\n",
       "      <th>CustomerID</th>\n",
       "      <th>ChildrenInHH</th>\n",
       "      <th>HandsetRefurbished</th>\n",
       "      <th>HandsetWebCapable</th>\n",
       "      <th>TruckOwner</th>\n",
       "      <th>RVOwner</th>\n",
       "      <th>HomeownershipKnown</th>\n",
       "      <th>BuysViaMailOrder</th>\n",
       "      <th>RespondsToMailOffers</th>\n",
       "      <th>OptOutMailings</th>\n",
       "      <th>...</th>\n",
       "      <th>PrizmCode__Suburban</th>\n",
       "      <th>PrizmCode__Town</th>\n",
       "      <th>Occupation__Clerical</th>\n",
       "      <th>Occupation__Crafts</th>\n",
       "      <th>Occupation__Homemaker</th>\n",
       "      <th>Occupation__Other</th>\n",
       "      <th>Occupation__Professional</th>\n",
       "      <th>Occupation__Retired</th>\n",
       "      <th>Occupation__Self</th>\n",
       "      <th>Occupation__Student</th>\n",
       "    </tr>\n",
       "  </thead>\n",
       "  <tbody>\n",
       "    <tr>\n",
       "      <th>0</th>\n",
       "      <td>3000002</td>\n",
       "      <td>False</td>\n",
       "      <td>False</td>\n",
       "      <td>True</td>\n",
       "      <td>False</td>\n",
       "      <td>False</td>\n",
       "      <td>True</td>\n",
       "      <td>True</td>\n",
       "      <td>True</td>\n",
       "      <td>False</td>\n",
       "      <td>...</td>\n",
       "      <td>1</td>\n",
       "      <td>0</td>\n",
       "      <td>0</td>\n",
       "      <td>0</td>\n",
       "      <td>0</td>\n",
       "      <td>0</td>\n",
       "      <td>1</td>\n",
       "      <td>0</td>\n",
       "      <td>0</td>\n",
       "      <td>0</td>\n",
       "    </tr>\n",
       "    <tr>\n",
       "      <th>1</th>\n",
       "      <td>3000010</td>\n",
       "      <td>True</td>\n",
       "      <td>False</td>\n",
       "      <td>False</td>\n",
       "      <td>False</td>\n",
       "      <td>False</td>\n",
       "      <td>True</td>\n",
       "      <td>True</td>\n",
       "      <td>True</td>\n",
       "      <td>False</td>\n",
       "      <td>...</td>\n",
       "      <td>1</td>\n",
       "      <td>0</td>\n",
       "      <td>0</td>\n",
       "      <td>0</td>\n",
       "      <td>0</td>\n",
       "      <td>0</td>\n",
       "      <td>1</td>\n",
       "      <td>0</td>\n",
       "      <td>0</td>\n",
       "      <td>0</td>\n",
       "    </tr>\n",
       "    <tr>\n",
       "      <th>2</th>\n",
       "      <td>3000014</td>\n",
       "      <td>True</td>\n",
       "      <td>False</td>\n",
       "      <td>False</td>\n",
       "      <td>False</td>\n",
       "      <td>False</td>\n",
       "      <td>False</td>\n",
       "      <td>False</td>\n",
       "      <td>False</td>\n",
       "      <td>False</td>\n",
       "      <td>...</td>\n",
       "      <td>0</td>\n",
       "      <td>1</td>\n",
       "      <td>0</td>\n",
       "      <td>1</td>\n",
       "      <td>0</td>\n",
       "      <td>0</td>\n",
       "      <td>0</td>\n",
       "      <td>0</td>\n",
       "      <td>0</td>\n",
       "      <td>0</td>\n",
       "    </tr>\n",
       "    <tr>\n",
       "      <th>3</th>\n",
       "      <td>3000022</td>\n",
       "      <td>False</td>\n",
       "      <td>False</td>\n",
       "      <td>True</td>\n",
       "      <td>False</td>\n",
       "      <td>False</td>\n",
       "      <td>True</td>\n",
       "      <td>True</td>\n",
       "      <td>True</td>\n",
       "      <td>False</td>\n",
       "      <td>...</td>\n",
       "      <td>0</td>\n",
       "      <td>0</td>\n",
       "      <td>0</td>\n",
       "      <td>0</td>\n",
       "      <td>0</td>\n",
       "      <td>1</td>\n",
       "      <td>0</td>\n",
       "      <td>0</td>\n",
       "      <td>0</td>\n",
       "      <td>0</td>\n",
       "    </tr>\n",
       "    <tr>\n",
       "      <th>4</th>\n",
       "      <td>3000026</td>\n",
       "      <td>False</td>\n",
       "      <td>False</td>\n",
       "      <td>False</td>\n",
       "      <td>False</td>\n",
       "      <td>False</td>\n",
       "      <td>True</td>\n",
       "      <td>True</td>\n",
       "      <td>True</td>\n",
       "      <td>False</td>\n",
       "      <td>...</td>\n",
       "      <td>0</td>\n",
       "      <td>0</td>\n",
       "      <td>0</td>\n",
       "      <td>0</td>\n",
       "      <td>0</td>\n",
       "      <td>0</td>\n",
       "      <td>1</td>\n",
       "      <td>0</td>\n",
       "      <td>0</td>\n",
       "      <td>0</td>\n",
       "    </tr>\n",
       "  </tbody>\n",
       "</table>\n",
       "<p>5 rows × 81 columns</p>\n",
       "</div>"
      ],
      "text/plain": [
       "   CustomerID  ChildrenInHH  HandsetRefurbished  HandsetWebCapable  \\\n",
       "0     3000002         False               False               True   \n",
       "1     3000010          True               False              False   \n",
       "2     3000014          True               False              False   \n",
       "3     3000022         False               False               True   \n",
       "4     3000026         False               False              False   \n",
       "\n",
       "   TruckOwner  RVOwner  HomeownershipKnown  BuysViaMailOrder  \\\n",
       "0       False    False                True              True   \n",
       "1       False    False                True              True   \n",
       "2       False    False               False             False   \n",
       "3       False    False                True              True   \n",
       "4       False    False                True              True   \n",
       "\n",
       "   RespondsToMailOffers  OptOutMailings  ...  PrizmCode__Suburban  \\\n",
       "0                  True           False  ...                    1   \n",
       "1                  True           False  ...                    1   \n",
       "2                 False           False  ...                    0   \n",
       "3                  True           False  ...                    0   \n",
       "4                  True           False  ...                    0   \n",
       "\n",
       "   PrizmCode__Town  Occupation__Clerical  Occupation__Crafts  \\\n",
       "0                0                     0                   0   \n",
       "1                0                     0                   0   \n",
       "2                1                     0                   1   \n",
       "3                0                     0                   0   \n",
       "4                0                     0                   0   \n",
       "\n",
       "   Occupation__Homemaker  Occupation__Other  Occupation__Professional  \\\n",
       "0                      0                  0                         1   \n",
       "1                      0                  0                         1   \n",
       "2                      0                  0                         0   \n",
       "3                      0                  1                         0   \n",
       "4                      0                  0                         1   \n",
       "\n",
       "   Occupation__Retired  Occupation__Self  Occupation__Student  \n",
       "0                    0                 0                    0  \n",
       "1                    0                 0                    0  \n",
       "2                    0                 0                    0  \n",
       "3                    0                 0                    0  \n",
       "4                    0                 0                    0  \n",
       "\n",
       "[5 rows x 81 columns]"
      ]
     },
     "execution_count": 119,
     "metadata": {},
     "output_type": "execute_result"
    }
   ],
   "source": [
    "X.head()"
   ]
  },
  {
   "cell_type": "markdown",
   "metadata": {},
   "source": [
    "## Part 4.  Create Training and Test Data Sets"
   ]
  },
  {
   "cell_type": "markdown",
   "metadata": {},
   "source": [
    "<b>Task</b>: In the code cell below create training and test data sets out of the labeled examples. \n",
    "\n",
    "1. Use Scikit-learn's `train_test_split()` function to create the data sets.\n",
    "\n",
    "2. Specify:\n",
    "    * A test set that is 30 percent (.30) of the size of the data set.\n",
    "    * A seed value of '123'. \n",
    "    \n"
   ]
  },
  {
   "cell_type": "code",
   "execution_count": 120,
   "metadata": {},
   "outputs": [],
   "source": [
    "X_train, X_test, y_train, y_test = train_test_split(X, y, test_size=0.3, random_state=123)"
   ]
  },
  {
   "cell_type": "markdown",
   "metadata": {},
   "source": [
    "Check that the dimensions of the training and test data sets are what you expected:"
   ]
  },
  {
   "cell_type": "code",
   "execution_count": 121,
   "metadata": {},
   "outputs": [
    {
     "name": "stdout",
     "output_type": "stream",
     "text": [
      "(35732, 81)\n",
      "(15315, 81)\n"
     ]
    }
   ],
   "source": [
    "print(X_train.shape)\n",
    "print(X_test.shape)"
   ]
  },
  {
   "cell_type": "markdown",
   "metadata": {},
   "source": [
    "## Part 5. Train Decision Tree Classifiers and Evaluate Their Performances"
   ]
  },
  {
   "cell_type": "markdown",
   "metadata": {},
   "source": [
    "The code cell below contains a shell of a function named `train_test_DT()`. This function should \n",
    "1. train a Decision Tree classifier on the training data\n",
    "2. test the resulting model on the test data\n",
    "3. compute and return the accuracy score of the resulting predicted class labels on the test data\n",
    "\n",
    "<b>Task:</b> Complete the function to make it work."
   ]
  },
  {
   "cell_type": "code",
   "execution_count": 122,
   "metadata": {},
   "outputs": [],
   "source": [
    "DecisionTreeClassifier?"
   ]
  },
  {
   "cell_type": "code",
   "execution_count": 123,
   "metadata": {},
   "outputs": [],
   "source": [
    "def train_test_DT(X_train, X_test, y_train, y_test, depth, leaf=1, crit='entropy'):\n",
    "    '''\n",
    "    Fit a Decision Tree classifier to the training data X_train, y_train.\n",
    "    Return the accuracy of resulting predictions on the test set.\n",
    "    Parameters:\n",
    "        depth := The maximum depth of the tree\n",
    "        leaf := The minimum number of samples required to be at a leaf node. \n",
    "            We have assigned a default value of 1 to the leaf parameter\n",
    "        crit := The function to be used to measure the quality of a split. \n",
    "            We have assigned a default value of 'entropy' to the crit parameter. Note that\n",
    "            scikit-learn's default value is gini.\n",
    "    '''\n",
    "    \n",
    "     # 1. Create the  Scikit-learn DecisionTreeClassifier model object below and assign to \n",
    "        # variable 'model'\n",
    "    model = DecisionTreeClassifier(criterion=crit, max_depth=depth, min_samples_leaf=leaf)\n",
    "  \n",
    "\n",
    "    # 2. Fit the model to the training data below\n",
    "    model.fit(X_train, y_train)\n",
    "   \n",
    "\n",
    "    # 3. Make predictions on the test data and assign the result to the \n",
    "        # variable 'class_label_predictions' below\n",
    "    class_label_predictions = model.predict(X_test)\n",
    "   \n",
    "  \n",
    "    # 4. Compute the accuracy and save the result to the variable 'acc_score' below\n",
    "    acc_score = accuracy_score(y_test, class_label_predictions)\n",
    "          \n",
    "    \n",
    "    return acc_score"
   ]
  },
  {
   "cell_type": "markdown",
   "metadata": {},
   "source": [
    "#### Train Decision Tree Classifiers Using Different Hyperparameter Values"
   ]
  },
  {
   "cell_type": "markdown",
   "metadata": {},
   "source": [
    "<b>Task:</b> Complete the code cell below to train two Decision Tree classifiers using your function. Save the resulting accuracy scores to the list `acc`.\n",
    "\n",
    "Choose the two values for max depth to pass as arguments to your function:\n",
    "- one with a low value of max depth\n",
    "- one high value of max depth\n",
    "\n",
    "Print the max depth and resulting accuracy score."
   ]
  },
  {
   "cell_type": "code",
   "execution_count": 124,
   "metadata": {},
   "outputs": [
    {
     "name": "stdout",
     "output_type": "stream",
     "text": [
      "max depth: 10, score: 0.7038850799869409\n",
      "max depth: 50, score: 0.6146914789422135\n"
     ]
    }
   ],
   "source": [
    "depth1= 10\n",
    "depth2 = 50\n",
    "\n",
    "max_depth_range = [depth1, depth2]\n",
    "acc = []\n",
    "\n",
    "for md in max_depth_range:\n",
    "    score = train_test_DT(X_train, X_test, y_train, y_test, md)\n",
    "    print(f'max depth: {md}, score: {score}')\n",
    "    acc.append(score)"
   ]
  },
  {
   "cell_type": "markdown",
   "metadata": {},
   "source": [
    "<b>Task</b>: Visualize the results using a `seaborn` lineplot. The x axis should correspond to the depths contained in list `max_depth_range` and the y axis should corrsponds to the accuracy scores contained in the list `acc`.\n",
    "\n",
    "Consult the online [documentation](https://seaborn.pydata.org/generated/seaborn.lineplot.html) for more information about `seaborn` lineplots.\n"
   ]
  },
  {
   "cell_type": "code",
   "execution_count": 125,
   "metadata": {},
   "outputs": [],
   "source": [
    "sns.lineplot?"
   ]
  },
  {
   "cell_type": "code",
   "execution_count": 126,
   "metadata": {},
   "outputs": [
    {
     "data": {
      "image/png": "[encoded data removed]",
      "text/plain": [
       "<Figure size 432x288 with 1 Axes>"
      ]
     },
     "metadata": {
      "needs_background": "light"
     },
     "output_type": "display_data"
    }
   ],
   "source": [
    "fig = plt.figure()\n",
    "ax = fig.add_subplot(111)\n",
    "\n",
    "p = sns.lineplot(x=max_depth_range, y=acc, marker='o')\n",
    "\n",
    "plt.title('Test set accuracy of the DT predictions, for $max\\_depth\\in\\{10, 50\\}$')\n",
    "ax.set_xlabel('max_depth')\n",
    "ax.set_ylabel('Accuracy')\n",
    "plt.show()"
   ]
  },
  {
   "cell_type": "markdown",
   "metadata": {},
   "source": [
    "## Part 6. Analysis\n",
    "\n",
    "Experiment with different values for `max_depth`. Add these new values to the list `max_depth_range`, retrain your models and rerun with the visualization cell above. Compare the different accuracy scores.\n",
    "\n",
    "Once you find the best value for `max_depth`, experiment with different values for `leaf` and compare the different accuracy scores.\n",
    "\n",
    "Is there one model configuration that yields the best score? Record your findings in the cell below."
   ]
  },
  {
   "cell_type": "code",
   "execution_count": 127,
   "metadata": {},
   "outputs": [
    {
     "name": "stdout",
     "output_type": "stream",
     "text": [
      "max depth: 2, score: 0.7107411034933072\n",
      "max depth: 5, score: 0.715834149526608\n",
      "max depth: 8, score: 0.7108063989552726\n",
      "max depth: 11, score: 0.6985308521057787\n",
      "max depth: 14, score: 0.6808357819131571\n",
      "max depth: 17, score: 0.6613124387855044\n",
      "max depth: 20, score: 0.641332027424094\n",
      "max depth: 23, score: 0.6328436173685928\n",
      "max depth: 26, score: 0.6233757753836109\n",
      "max depth: 29, score: 0.6220045706823376\n"
     ]
    },
    {
     "data": {
      "image/png": "[encoded data removed]",
      "text/plain": [
       "<Figure size 432x288 with 1 Axes>"
      ]
     },
     "metadata": {
      "needs_background": "light"
     },
     "output_type": "display_data"
    }
   ],
   "source": [
    "max_depth_range = [i for i in range(2,30,3)]\n",
    "acc = []\n",
    "\n",
    "for md in max_depth_range:\n",
    "    score = train_test_DT(X_train, X_test, y_train, y_test, md)\n",
    "    print(f'max depth: {md}, score: {score}')\n",
    "    acc.append(score)\n",
    "\n",
    "fig = plt.figure()\n",
    "ax = fig.add_subplot(111)\n",
    "\n",
    "p = sns.lineplot(x=max_depth_range, y=acc, marker='o')\n",
    "\n",
    "plt.title('Test set accuracy of the DT predictions, for $max\\_depth\\in\\{x|2<x<30}$')\n",
    "ax.set_xlabel('max_depth')\n",
    "ax.set_ylabel('Accuracy')\n",
    "plt.show()"
   ]
  },
  {
   "cell_type": "code",
   "execution_count": 128,
   "metadata": {},
   "outputs": [
    {
     "name": "stdout",
     "output_type": "stream",
     "text": [
      "0.7143323539014038\n",
      "0.715834149526608\n",
      "0.7132876265099576\n"
     ]
    }
   ],
   "source": [
    "print(train_test_DT(X_train, X_test, y_train, y_test, 4))\n",
    "print(train_test_DT(X_train, X_test, y_train, y_test, 5))\n",
    "print(train_test_DT(X_train, X_test, y_train, y_test, 6))"
   ]
  },
  {
   "cell_type": "markdown",
   "metadata": {},
   "source": [
    "The accuracy start to drop when the max depth gets bigger than 5. The best accuracy score yields when the max depth is 5.\n",
    "It seems that this tree does not require many splits to acquire high accuracy. This means that we can acheive low entropy within few splits."
   ]
  },
  {
   "cell_type": "code",
   "execution_count": 85,
   "metadata": {},
   "outputs": [],
   "source": [
    "fig.add_subplot?"
   ]
  },
  {
   "cell_type": "code",
   "execution_count": 132,
   "metadata": {},
   "outputs": [
    {
     "name": "stdout",
     "output_type": "stream",
     "text": [
      "min leaf: 1, score: 0.715834149526608\n",
      "min leaf: 4, score: 0.7157688540646425\n",
      "min leaf: 7, score: 0.715834149526608\n",
      "min leaf: 10, score: 0.7155729676787463\n",
      "min leaf: 13, score: 0.7157035586026771\n",
      "min leaf: 16, score: 0.7162912177603656\n",
      "min leaf: 19, score: 0.7159647404505387\n",
      "min leaf: 22, score: 0.715834149526608\n",
      "min leaf: 25, score: 0.715834149526608\n",
      "min leaf: 28, score: 0.7147894221351616\n",
      "min leaf: 31, score: 0.7145282402873\n",
      "min leaf: 34, score: 0.7142017629774731\n",
      "min leaf: 37, score: 0.7149853085210578\n",
      "min leaf: 40, score: 0.7146588312112309\n",
      "min leaf: 43, score: 0.7146588312112309\n",
      "min leaf: 46, score: 0.7143323539014038\n",
      "min leaf: 49, score: 0.7143323539014038\n"
     ]
    },
    {
     "data": {
      "image/png": "[encoded data removed]",
      "text/plain": [
       "<Figure size 432x288 with 1 Axes>"
      ]
     },
     "metadata": {
      "needs_background": "light"
     },
     "output_type": "display_data"
    }
   ],
   "source": [
    "min_leaf_range = [i for i in range(1,50,3)]\n",
    "acc2 = []\n",
    "\n",
    "for ml in min_leaf_range:\n",
    "    score = train_test_DT(X_train, X_test, y_train, y_test, 5, leaf=ml)\n",
    "    print(f'min leaf: {ml}, score: {score}')\n",
    "    acc2.append(score)\n",
    "\n",
    "fig = plt.figure()\n",
    "ax = fig.add_subplot(111)\n",
    "\n",
    "p = sns.lineplot(x=min_leaf_range, y=acc2, marker='o')\n",
    "\n",
    "plt.title('Test set accuracy of the DT predictions, for $min\\_leaf\\in\\{x|1<x<50\\}$')\n",
    "ax.set_xlabel('min_leaf')\n",
    "ax.set_ylabel('Accuracy')\n",
    "plt.show()"
   ]
  },
  {
   "cell_type": "code",
   "execution_count": 130,
   "metadata": {
    "scrolled": true
   },
   "outputs": [
    {
     "name": "stdout",
     "output_type": "stream",
     "text": [
      "0.7162912177603656\n",
      "0.7162912177603656\n",
      "0.7159647404505387\n"
     ]
    }
   ],
   "source": [
    "print(train_test_DT(X_train, X_test, y_train, y_test, 5, leaf=15))\n",
    "print(train_test_DT(X_train, X_test, y_train, y_test, 5, leaf=16))\n",
    "print(train_test_DT(X_train, X_test, y_train, y_test, 5, leaf=17))"
   ]
  },
  {
   "cell_type": "markdown",
   "metadata": {},
   "source": [
    "The score is the highest when the max_depth=5 and min_leaf is 15 or 16.\n",
    "The accuracy sigificantly drops when the min_leafs>25, but it goes slightly up again when min_leaf=37."
   ]
  },
  {
   "cell_type": "code",
   "execution_count": null,
   "metadata": {},
   "outputs": [],
   "source": []
  }
 ],
 "metadata": {
  "kernelspec": {
   "display_name": "Python 3",
   "language": "python",
   "name": "python3"
  },
  "language_info": {
   "codemirror_mode": {
    "name": "ipython",
    "version": 3
   },
   "file_extension": ".py",
   "mimetype": "text/x-python",
   "name": "python",
   "nbconvert_exporter": "python",
   "pygments_lexer": "ipython3",
   "version": "3.6.9"
  },
  "toc": {
   "base_numbering": 1,
   "nav_menu": {},
   "number_sections": false,
   "sideBar": true,
   "skip_h1_title": false,
   "title_cell": "Table of Contents",
   "title_sidebar": "Contents",
   "toc_cell": false,
   "toc_position": {},
   "toc_section_display": true,
   "toc_window_display": false
  },
  "varInspector": {
   "cols": {
    "lenName": 16,
    "lenType": 16,
    "lenVar": 40
   },
   "kernels_config": {
    "python": {
     "delete_cmd_postfix": "",
     "delete_cmd_prefix": "del ",
     "library": "var_list.py",
     "varRefreshCmd": "print(var_dic_list())"
    },
    "r": {
     "delete_cmd_postfix": ") ",
     "delete_cmd_prefix": "rm(",
     "library": "var_list.r",
     "varRefreshCmd": "cat(var_dic_list()) "
    }
   },
   "types_to_exclude": [
    "module",
    "function",
    "builtin_function_or_method",
    "instance",
    "_Feature"
   ],
   "window_display": false
  }
 },
 "nbformat": 4,
 "nbformat_minor": 2
}
